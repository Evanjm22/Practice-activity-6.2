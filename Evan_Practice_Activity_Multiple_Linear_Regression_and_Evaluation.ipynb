{
  "cells": [
    {
      "cell_type": "raw",
      "metadata": {
        "vscode": {
          "languageId": "raw"
        }
      },
      "source": [
        "---\n",
        "title: \"Practice Activity 6.2\"\n",
        "author: \"Evan Murphy\" \n",
        "format:\n",
        "  html:\n",
        "    code-fold: false\n",
        "embed-resources: true\n",
        "theme: \"cosmo\"\n",
        "---"
      ]
    },
    {
      "cell_type": "markdown",
      "metadata": {
        "id": "FdLoheP-mrxn"
      },
      "source": [
        "# Palmer Penguins Modeling\n",
        "\n",
        "Import the Palmer Penguins dataset and print out the first few rows.\n",
        "\n",
        "Suppose we want to predict `bill_depth_mm` using the other variables in the dataset.\n",
        "\n",
        "**Dummify** all variables that require this."
      ]
    },
    {
      "cell_type": "code",
      "execution_count": 2,
      "metadata": {
        "colab": {
          "base_uri": "https://localhost:8080/",
          "height": 327
        },
        "id": "N5lG475yllju",
        "outputId": "47379346-a0a9-41fc-8dbd-f315dafe0601"
      },
      "outputs": [
        {
          "name": "stdout",
          "output_type": "stream",
          "text": [
            "Requirement already satisfied: palmerpenguins in c:\\users\\evan\\anaconda3\\lib\\site-packages (0.1.4)\n",
            "Requirement already satisfied: pandas in c:\\users\\evan\\anaconda3\\lib\\site-packages (from palmerpenguins) (2.2.2)\n",
            "Requirement already satisfied: numpy in c:\\users\\evan\\anaconda3\\lib\\site-packages (from palmerpenguins) (1.26.4)\n",
            "Requirement already satisfied: python-dateutil>=2.8.2 in c:\\users\\evan\\anaconda3\\lib\\site-packages (from pandas->palmerpenguins) (2.9.0.post0)\n",
            "Requirement already satisfied: pytz>=2020.1 in c:\\users\\evan\\anaconda3\\lib\\site-packages (from pandas->palmerpenguins) (2024.1)\n",
            "Requirement already satisfied: tzdata>=2022.7 in c:\\users\\evan\\anaconda3\\lib\\site-packages (from pandas->palmerpenguins) (2023.3)\n",
            "Requirement already satisfied: six>=1.5 in c:\\users\\evan\\anaconda3\\lib\\site-packages (from python-dateutil>=2.8.2->pandas->palmerpenguins) (1.16.0)\n",
            "Requirement already satisfied: palmerpenguins in c:\\users\\evan\\anaconda3\\lib\\site-packages (0.1.4)\n",
            "Requirement already satisfied: pandas in c:\\users\\evan\\anaconda3\\lib\\site-packages (from palmerpenguins) (2.2.2)\n",
            "Requirement already satisfied: numpy in c:\\users\\evan\\anaconda3\\lib\\site-packages (from palmerpenguins) (1.26.4)\n",
            "Requirement already satisfied: python-dateutil>=2.8.2 in c:\\users\\evan\\anaconda3\\lib\\site-packages (from pandas->palmerpenguins) (2.9.0.post0)\n",
            "Requirement already satisfied: pytz>=2020.1 in c:\\users\\evan\\anaconda3\\lib\\site-packages (from pandas->palmerpenguins) (2024.1)\n",
            "Requirement already satisfied: tzdata>=2022.7 in c:\\users\\evan\\anaconda3\\lib\\site-packages (from pandas->palmerpenguins) (2023.3)\n",
            "Requirement already satisfied: six>=1.5 in c:\\users\\evan\\anaconda3\\lib\\site-packages (from python-dateutil>=2.8.2->pandas->palmerpenguins) (1.16.0)\n"
          ]
        },
        {
          "data": {
            "text/html": [
              "<div>\n",
              "<style scoped>\n",
              "    .dataframe tbody tr th:only-of-type {\n",
              "        vertical-align: middle;\n",
              "    }\n",
              "\n",
              "    .dataframe tbody tr th {\n",
              "        vertical-align: top;\n",
              "    }\n",
              "\n",
              "    .dataframe thead th {\n",
              "        text-align: right;\n",
              "    }\n",
              "</style>\n",
              "<table border=\"1\" class=\"dataframe\">\n",
              "  <thead>\n",
              "    <tr style=\"text-align: right;\">\n",
              "      <th></th>\n",
              "      <th>species</th>\n",
              "      <th>island</th>\n",
              "      <th>bill_length_mm</th>\n",
              "      <th>bill_depth_mm</th>\n",
              "      <th>flipper_length_mm</th>\n",
              "      <th>body_mass_g</th>\n",
              "      <th>sex</th>\n",
              "      <th>year</th>\n",
              "    </tr>\n",
              "  </thead>\n",
              "  <tbody>\n",
              "    <tr>\n",
              "      <th>0</th>\n",
              "      <td>Adelie</td>\n",
              "      <td>Torgersen</td>\n",
              "      <td>39.1</td>\n",
              "      <td>18.7</td>\n",
              "      <td>181.0</td>\n",
              "      <td>3750.0</td>\n",
              "      <td>male</td>\n",
              "      <td>2007</td>\n",
              "    </tr>\n",
              "    <tr>\n",
              "      <th>1</th>\n",
              "      <td>Adelie</td>\n",
              "      <td>Torgersen</td>\n",
              "      <td>39.5</td>\n",
              "      <td>17.4</td>\n",
              "      <td>186.0</td>\n",
              "      <td>3800.0</td>\n",
              "      <td>female</td>\n",
              "      <td>2007</td>\n",
              "    </tr>\n",
              "    <tr>\n",
              "      <th>2</th>\n",
              "      <td>Adelie</td>\n",
              "      <td>Torgersen</td>\n",
              "      <td>40.3</td>\n",
              "      <td>18.0</td>\n",
              "      <td>195.0</td>\n",
              "      <td>3250.0</td>\n",
              "      <td>female</td>\n",
              "      <td>2007</td>\n",
              "    </tr>\n",
              "    <tr>\n",
              "      <th>3</th>\n",
              "      <td>Adelie</td>\n",
              "      <td>Torgersen</td>\n",
              "      <td>NaN</td>\n",
              "      <td>NaN</td>\n",
              "      <td>NaN</td>\n",
              "      <td>NaN</td>\n",
              "      <td>NaN</td>\n",
              "      <td>2007</td>\n",
              "    </tr>\n",
              "    <tr>\n",
              "      <th>4</th>\n",
              "      <td>Adelie</td>\n",
              "      <td>Torgersen</td>\n",
              "      <td>36.7</td>\n",
              "      <td>19.3</td>\n",
              "      <td>193.0</td>\n",
              "      <td>3450.0</td>\n",
              "      <td>female</td>\n",
              "      <td>2007</td>\n",
              "    </tr>\n",
              "  </tbody>\n",
              "</table>\n",
              "</div>"
            ],
            "text/plain": [
              "  species     island  bill_length_mm  bill_depth_mm  flipper_length_mm  body_mass_g     sex  year\n",
              "0  Adelie  Torgersen            39.1           18.7              181.0       3750.0    male  2007\n",
              "1  Adelie  Torgersen            39.5           17.4              186.0       3800.0  female  2007\n",
              "2  Adelie  Torgersen            40.3           18.0              195.0       3250.0  female  2007\n",
              "3  Adelie  Torgersen             NaN            NaN                NaN          NaN     NaN  2007\n",
              "4  Adelie  Torgersen            36.7           19.3              193.0       3450.0  female  2007"
            ]
          },
          "execution_count": null,
          "metadata": {},
          "output_type": "execute_result"
        }
      ],
      "source": [
        "!pip install palmerpenguins\n",
        "import pandas as pd\n",
        "from palmerpenguins import load_penguins\n",
        "from plotnine import *\n",
        "from sklearn.pipeline import Pipeline\n",
        "from sklearn.linear_model import LinearRegression\n",
        "from sklearn.metrics import r2_score\n",
        "from sklearn.metrics import mean_squared_error\n",
        "from sklearn.model_selection import train_test_split\n",
        "from sklearn.preprocessing import PolynomialFeatures\n",
        "from sklearn.preprocessing import StandardScaler, OneHotEncoder\n",
        "from sklearn.compose import ColumnTransformer\n",
        "\n",
        "\n",
        "\n",
        "penguins = load_penguins()\n",
        "penguins.head()"
      ]
    },
    {
      "cell_type": "code",
      "execution_count": 3,
      "metadata": {
        "id": "dZomTc4rX6VJ"
      },
      "outputs": [],
      "source": [
        "penguins = penguins.dropna()\n",
        "X = penguins.drop(\"bill_depth_mm\", axis=1)\n",
        "y = penguins[[\"bill_depth_mm\"]]\n",
        "X_train, X_test, y_train, y_test = train_test_split(X, y, test_size=0.25)\n",
        "\n"
      ]
    },
    {
      "cell_type": "markdown",
      "metadata": {
        "id": "TT1MVgaKm_gX"
      },
      "source": [
        "Let's use the other variables to predict `bill_depth_mm`. Prepare your data and fit the following models on a training dataset subset of the entire dataset:\n",
        "\n",
        "* Four different models, each containing a different set of predictor variables\n",
        "\n",
        "Create a plot like the right plot of Fig 1. in our `Model Validation` chapter with the training and test error plotted for each of your four models.\n",
        "\n",
        "Which of your models was best?"
      ]
    },
    {
      "cell_type": "markdown",
      "metadata": {
        "id": "_8SIYusiXcsp"
      },
      "source": [
        "Model 1"
      ]
    },
    {
      "cell_type": "code",
      "execution_count": 24,
      "metadata": {
        "id": "M6f7JWZTm6tn"
      },
      "outputs": [],
      "source": [
        "ctr = ColumnTransformer(\n",
        "    [\n",
        "    (\"standardize\", StandardScaler(), [\"bill_length_mm\"])\n",
        "    ], remainder=\"drop\"\n",
        ")\n",
        "\n",
        "lr_pipeline = Pipeline(\n",
        "    [(\"preprocessing\", ctr),\n",
        "     (\"lr\", LinearRegression())]\n",
        ")\n",
        "#lr_pipeline"
      ]
    },
    {
      "cell_type": "code",
      "execution_count": 25,
      "metadata": {
        "colab": {
          "base_uri": "https://localhost:8080/"
        },
        "id": "T3SFu7TGa3Y5",
        "outputId": "5ff0f63a-65f6-42bc-c82e-68d31ebf0911"
      },
      "outputs": [
        {
          "name": "stdout",
          "output_type": "stream",
          "text": [
            "3.624654525954887\n",
            "3.8035378584732578\n",
            "3.624654525954887\n",
            "3.8035378584732578\n"
          ]
        }
      ],
      "source": [
        "#lr_pipeline.fit(X_train, y_train)\n",
        "#y_pred = lr_pipeline.predict(X_test)\n",
        "#r2_score(y_test, y_pred)\n",
        "\n",
        "\n",
        "lr_fit = lr_pipeline.fit(X_train, y_train)\n",
        "y_pred_lr = lr_fit.predict(X_test)\n",
        "y_pred_lrT = lr_fit.predict(X_train)\n",
        "\n",
        "msetest = mean_squared_error(y_test, y_pred_lr)\n",
        "msetrain = mean_squared_error(y_train, y_pred_lrT)\n",
        "R2test = r2_score(y_test, y_pred_lr)\n",
        "R2train = r2_score(y_train, y_pred_lrT)\n",
        "\n",
        "print(msetrain)\n",
        "print(msetest)\n",
        "\n"
      ]
    },
    {
      "cell_type": "code",
      "execution_count": 26,
      "metadata": {
        "id": "kbfMP73AiaKJ"
      },
      "outputs": [],
      "source": [
        "MSE = []\n",
        "MSE.append({\n",
        "    \"Flexibility\": 1,\n",
        "    \"Training MSE\": msetrain,\n",
        "    \"Test MSE\": msetest\n",
        "})\n"
      ]
    },
    {
      "cell_type": "code",
      "execution_count": 27,
      "metadata": {
        "id": "wqIDLUYydqr0"
      },
      "outputs": [],
      "source": [
        "ctr2 = ColumnTransformer(\n",
        "    [\n",
        "    (\"standardize\", StandardScaler(), [\"bill_length_mm\", \"flipper_length_mm\",\t\"body_mass_g\"])\n",
        "    ], remainder=\"drop\"\n",
        ")\n",
        "\n",
        "lr_pipeline2 = Pipeline(\n",
        "    [(\"preprocessing\", ctr2),\n",
        "     (\"lr\", LinearRegression())]\n",
        ")\n",
        "#lr_pipeline2\n"
      ]
    },
    {
      "cell_type": "code",
      "execution_count": 28,
      "metadata": {
        "colab": {
          "base_uri": "https://localhost:8080/"
        },
        "id": "HzAfYD7YeLnU",
        "outputId": "517d021c-890b-49cf-f2e7-d949c87aeff4"
      },
      "outputs": [
        {
          "name": "stdout",
          "output_type": "stream",
          "text": [
            "2.2755966846063345\n",
            "2.8629313390725297\n",
            "2.2755966846063345\n",
            "2.8629313390725297\n"
          ]
        }
      ],
      "source": [
        "lr_fit2 = lr_pipeline2.fit(X_train, y_train)\n",
        "y_pred_lr2 = lr_fit2.predict(X_test)\n",
        "y_pred_lrT2 = lr_fit2.predict(X_train)\n",
        "\n",
        "msetest2 = mean_squared_error(y_test, y_pred_lr2)\n",
        "msetrain2 = mean_squared_error(y_train, y_pred_lrT2)\n",
        "\n",
        "\n",
        "print(msetrain2)\n",
        "print(msetest2)\n"
      ]
    },
    {
      "cell_type": "code",
      "execution_count": 29,
      "metadata": {
        "id": "F_p5MzIDi59h"
      },
      "outputs": [],
      "source": [
        "MSE.append({\n",
        "    \"Flexibility\": 3,\n",
        "    \"Training MSE\": msetrain2,\n",
        "    \"Test MSE\": msetest2\n",
        "})"
      ]
    },
    {
      "cell_type": "code",
      "execution_count": 30,
      "metadata": {
        "id": "bM78NPaaew9z"
      },
      "outputs": [],
      "source": [
        "ctr3 = ColumnTransformer(\n",
        "    transformers=[\n",
        "        (\"standardize\", StandardScaler(), [\"bill_length_mm\", \"flipper_length_mm\", \"body_mass_g\"]),\n",
        "        (\"dummify\", OneHotEncoder(sparse_output=False), [\"species\", \"island\"])\n",
        "    ],\n",
        "    remainder=\"drop\"\n",
        ")\n",
        "\n",
        "lr_pipeline3 = Pipeline(\n",
        "    [(\"preprocessing\", ctr3),\n",
        "     (\"lr\", LinearRegression())]\n",
        ")\n",
        "#lr_pipeline3\n"
      ]
    },
    {
      "cell_type": "code",
      "execution_count": 31,
      "metadata": {
        "colab": {
          "base_uri": "https://localhost:8080/"
        },
        "id": "2rdmSP_Egrts",
        "outputId": "f9f5091e-8772-459e-9d91-1db4c54b664a"
      },
      "outputs": [
        {
          "name": "stdout",
          "output_type": "stream",
          "text": [
            "0.6645583993763127\n",
            "0.7994479587152312\n",
            "0.6645583993763127\n",
            "0.7994479587152312\n"
          ]
        }
      ],
      "source": [
        "lr_fit3 = lr_pipeline3.fit(X_train, y_train)\n",
        "y_pred_lr3 = lr_fit3.predict(X_test)\n",
        "y_pred_lrT3= lr_fit3.predict(X_train)\n",
        "\n",
        "msetest3 = mean_squared_error(y_test, y_pred_lr3)\n",
        "msetrain3 = mean_squared_error(y_train, y_pred_lrT3)\n",
        "\n",
        "\n",
        "print(msetrain3)\n",
        "print(msetest3)"
      ]
    },
    {
      "cell_type": "code",
      "execution_count": 32,
      "metadata": {
        "id": "5_3ESJq-jAVq"
      },
      "outputs": [],
      "source": [
        "MSE.append({\n",
        "    \"Flexibility\": 5,\n",
        "    \"Training MSE\": msetrain3,\n",
        "    \"Test MSE\": msetest3\n",
        "})"
      ]
    },
    {
      "cell_type": "code",
      "execution_count": 33,
      "metadata": {
        "id": "UrPidW9rhKBx"
      },
      "outputs": [],
      "source": [
        "ctr4 = ColumnTransformer(\n",
        "    transformers=[\n",
        "        (\"standardize\", StandardScaler(), [\"bill_length_mm\", \"flipper_length_mm\", \"body_mass_g\"]),\n",
        "        (\"dummify\", OneHotEncoder(sparse_output=False), [\"species\", \"island\", \"sex\"])\n",
        "    ],\n",
        "    remainder=\"drop\"\n",
        ")\n",
        "\n",
        "lr_pipeline4 = Pipeline(\n",
        "    [(\"preprocessing\", ctr4),\n",
        "     (\"lr\", LinearRegression())]\n",
        ")\n",
        "#lr_pipeline4\n"
      ]
    },
    {
      "cell_type": "code",
      "execution_count": 34,
      "metadata": {
        "colab": {
          "base_uri": "https://localhost:8080/"
        },
        "id": "gAoATl5thmIe",
        "outputId": "1e9d98c0-0c8d-45b8-d029-2ec1c0153fa1"
      },
      "outputs": [
        {
          "name": "stdout",
          "output_type": "stream",
          "text": [
            "0.6004236283566948\n",
            "0.6597653520431626\n",
            "0.6004236283566948\n",
            "0.6597653520431626\n"
          ]
        }
      ],
      "source": [
        "lr_fit4 = lr_pipeline4.fit(X_train, y_train)\n",
        "y_pred_lr4 = lr_fit4.predict(X_test)\n",
        "y_pred_lrT4= lr_fit4.predict(X_train)\n",
        "\n",
        "msetest4 = mean_squared_error(y_test, y_pred_lr4)\n",
        "msetrain4 = mean_squared_error(y_train, y_pred_lrT4)\n",
        "\n",
        "\n",
        "print(msetrain4)\n",
        "print(msetest4)"
      ]
    },
    {
      "cell_type": "code",
      "execution_count": 35,
      "metadata": {
        "id": "ExHpmi1sjFlP"
      },
      "outputs": [],
      "source": [
        "MSE.append({\n",
        "    \"Flexibility\": 6,\n",
        "    \"Training MSE\": msetrain4,\n",
        "    \"Test MSE\": msetest4\n",
        "})"
      ]
    },
    {
      "cell_type": "code",
      "execution_count": 36,
      "metadata": {
        "id": "T6K8SHCIjSnl"
      },
      "outputs": [],
      "source": [
        "MSE = pd.DataFrame(MSE)\n",
        "#MSE"
      ]
    },
    {
      "cell_type": "code",
      "execution_count": 37,
      "metadata": {
        "colab": {
          "base_uri": "https://localhost:8080/",
          "height": 497
        },
        "id": "gDxFIb4lj-HC",
        "outputId": "8379099e-f99c-4190-f59f-513b4d3badb3"
      },
      "outputs": [
        {
          "data": {
            "image/png": "[encoded data removed]"
          },
          "metadata": {},
          "output_type": "display_data"
        }
      ],
      "source": [
        "(ggplot(MSE, aes(x='Flexibility', y='Training MSE'))\n",
        "        + geom_line(color=\"blue\")\n",
        "        + geom_line(aes(y=\"Test MSE\"), color=\"orange\")\n",
        "        + labs(title='MSE vs Flexibility',\n",
        "               x='Flexibility',\n",
        "               y='Mean Squared Error',\n",
        "               color='MSE Type')\n",
        "        )"
      ]
    },
    {
      "cell_type": "markdown",
      "metadata": {
        "id": "p6SQ6ViKmlC2"
      },
      "source": [
        "My last model is the besr which predicts using \"bill_length_mm\", \"flipper_length_mm\",\"body_mass_g\" \"species\", \"island\", and \"sex\". This is the superior model because the RMSE for both train and test is lower compared to the others.\n"
      ]
    }
  ],
  "metadata": {
    "colab": {
      "provenance": []
    },
    "kernelspec": {
      "display_name": "Python 3",
      "name": "python3"
    },
    "language_info": {
      "name": "python"
    }
  },
  "nbformat": 4,
  "nbformat_minor": 0
}
